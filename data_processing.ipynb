{
 "cells": [
  {
   "cell_type": "markdown",
   "metadata": {},
   "source": [
    "# 1) Convert PDF to JPG "
   ]
  },
  {
   "cell_type": "code",
   "execution_count": 2,
   "metadata": {},
   "outputs": [
    {
     "name": "stderr",
     "output_type": "stream",
     "text": [
      "  0%|          | 0/104 [00:00<?, ?it/s]"
     ]
    },
    {
     "name": "stdout",
     "output_type": "stream",
     "text": [
      "There are 104 pdf files\n"
     ]
    },
    {
     "name": "stderr",
     "output_type": "stream",
     "text": [
      "100%|██████████| 104/104 [01:34<00:00,  1.10it/s]"
     ]
    },
    {
     "name": "stdout",
     "output_type": "stream",
     "text": [
      "Successfully converted to jpg images. See the output at jpg_forms/raw_images/\n",
      "\n",
      "There are 400 images to be labelled\n"
     ]
    },
    {
     "name": "stderr",
     "output_type": "stream",
     "text": [
      "\n"
     ]
    }
   ],
   "source": [
    "import glob\n",
    "from pdf2image import convert_from_path\n",
    "import os\n",
    "from PIL import Image\n",
    "\n",
    "# ---------------------------------------------------------------------------\n",
    "\n",
    "input_path = 'pdf_forms/'\n",
    "output_path = 'jpg_forms/raw_images/'\n",
    "\n",
    "# ---------------------------------------------------------------------------\n",
    "\n",
    "!mkdir jpg_forms\n",
    "!mkdir jpg_forms/raw_images\n",
    "\n",
    "# ---------------------------------------------------------------------------\n",
    "\n",
    "pdf_list = glob.glob1(input_path,\"*.pdf\")\n",
    "print(\"There are\",len(pdf_list),\"pdf files\")\n",
    "\n",
    "# ---------------------------------------------------------------------------\n",
    "\n",
    "from tqdm import tqdm\n",
    "j = 0\n",
    "for i in tqdm(range(len(pdf_list))):\n",
    "    pages = convert_from_path(input_path+pdf_list[i])\n",
    "    for page in pages:\n",
    "        page.save(output_path + 'image_' + str(j) + \".jpg\", 'JPEG')\n",
    "        j+=1\n",
    "        \n",
    "print(\"Successfully converted to jpg images. See the output at\",output_path)\n",
    "\n",
    "# ---------------------------------------------------------------------------\n",
    "\n",
    "jpg_list = glob.glob1(output_path,\"*.jpg\")\n",
    "print(\"\\nThere are\", len(jpg_list), \"images to be labelled\")\n",
    "\n",
    "# ---------------------------------------------------------------------------"
   ]
  },
  {
   "cell_type": "markdown",
   "metadata": {},
   "source": [
    "# 2) Resize JPG dimensions to 600 x 600"
   ]
  },
  {
   "cell_type": "code",
   "execution_count": 3,
   "metadata": {},
   "outputs": [
    {
     "name": "stderr",
     "output_type": "stream",
     "text": [
      "100%|██████████| 400/400 [00:29<00:00, 13.50it/s]\n"
     ]
    }
   ],
   "source": [
    "from PIL import Image\n",
    "jpg_list = glob.glob1(output_path,\"*.jpg\")\n",
    "output_path2 = 'jpg_forms/resized_images/'\n",
    "\n",
    "!mkdir jpg_forms/resized_images\n",
    "\n",
    "for i in tqdm(range(len(jpg_list))):\n",
    "    img = Image.open(output_path+jpg_list[i])\n",
    "    img = img.resize((430,600))\n",
    "    img.save(output_path2 + 'resized_image_' + str(i) + \".jpg\", 'JPEG')"
   ]
  },
  {
   "cell_type": "markdown",
   "metadata": {},
   "source": [
    "# 3) Label objects in images using labelImg"
   ]
  },
  {
   "cell_type": "code",
   "execution_count": 20,
   "metadata": {},
   "outputs": [
    {
     "name": "stdout",
     "output_type": "stream",
     "text": [
      "../labelImg/labelImg.py:203: DeprecationWarning: an integer is required (got type DockWidgetFeatures).  Implicit conversion to integers using __int__ is deprecated, and may be removed in a future version of Python.\n",
      "  self.dock.setFeatures(self.dock.features() ^ self.dockFeatures)\n",
      "../labelImg/labelImg.py:950: DeprecationWarning: an integer is required (got type float).  Implicit conversion to integers using __int__ is deprecated, and may be removed in a future version of Python.\n",
      "  bar.setValue(bar.value() + bar.singleStep() * units)\n",
      "../labelImg/labelImg.py:956: DeprecationWarning: an integer is required (got type float).  Implicit conversion to integers using __int__ is deprecated, and may be removed in a future version of Python.\n",
      "  self.zoomWidget.setValue(value)\n",
      "../labelImg/labelImg.py:1010: DeprecationWarning: an integer is required (got type float).  Implicit conversion to integers using __int__ is deprecated, and may be removed in a future version of Python.\n",
      "  h_bar.setValue(new_h_bar_value)\n",
      "../labelImg/labelImg.py:1011: DeprecationWarning: an integer is required (got type float).  Implicit conversion to integers using __int__ is deprecated, and may be removed in a future version of Python.\n",
      "  v_bar.setValue(new_v_bar_value)\n",
      "Image:/home/azzubair/Desktop/DataMicron/RND/Banking-Form-Segmentation/jpg_forms/resized_images/resized_image_0.jpg -> Annotation:/home/azzubair/Desktop/DataMicron/RND/Banking-Form-Segmentation/jpg_forms/resized_images/resized_image_0.xml\n",
      "Image:/home/azzubair/Desktop/DataMicron/RND/Banking-Form-Segmentation/jpg_forms/resized_images/resized_image_0.jpg -> Annotation:/home/azzubair/Desktop/DataMicron/RND/Banking-Form-Segmentation/jpg_forms/resized_images/resized_image_0.xml\n",
      "Image:/home/azzubair/Desktop/DataMicron/RND/Banking-Form-Segmentation/jpg_forms/resized_images/resized_image_1.jpg -> Annotation:/home/azzubair/Desktop/DataMicron/RND/Banking-Form-Segmentation/jpg_forms/resized_images/resized_image_1.xml\n",
      "Image:/home/azzubair/Desktop/DataMicron/RND/Banking-Form-Segmentation/jpg_forms/resized_images/resized_image_1.jpg -> Annotation:/home/azzubair/Desktop/DataMicron/RND/Banking-Form-Segmentation/jpg_forms/resized_images/resized_image_1.xml\n",
      "Image:/home/azzubair/Desktop/DataMicron/RND/Banking-Form-Segmentation/jpg_forms/resized_images/resized_image_1.jpg -> Annotation:/home/azzubair/Desktop/DataMicron/RND/Banking-Form-Segmentation/jpg_forms/resized_images/resized_image_1.xml\n",
      "Image:/home/azzubair/Desktop/DataMicron/RND/Banking-Form-Segmentation/jpg_forms/resized_images/resized_image_2.jpg -> Annotation:/home/azzubair/Desktop/DataMicron/RND/Banking-Form-Segmentation/jpg_forms/resized_images/resized_image_2.xml\n",
      "Image:/home/azzubair/Desktop/DataMicron/RND/Banking-Form-Segmentation/jpg_forms/resized_images/resized_image_2.jpg -> Annotation:/home/azzubair/Desktop/DataMicron/RND/Banking-Form-Segmentation/jpg_forms/resized_images/resized_image_2.xml\n",
      "Image:/home/azzubair/Desktop/DataMicron/RND/Banking-Form-Segmentation/jpg_forms/resized_images/resized_image_5.jpg -> Annotation:/home/azzubair/Desktop/DataMicron/RND/Banking-Form-Segmentation/jpg_forms/resized_images/resized_image_5.xml\n",
      "Image:/home/azzubair/Desktop/DataMicron/RND/Banking-Form-Segmentation/jpg_forms/resized_images/resized_image_5.jpg -> Annotation:/home/azzubair/Desktop/DataMicron/RND/Banking-Form-Segmentation/jpg_forms/resized_images/resized_image_5.xml\n",
      "Cancel creation.\n",
      "Image:/home/azzubair/Desktop/DataMicron/RND/Banking-Form-Segmentation/jpg_forms/resized_images/resized_image_8.jpg -> Annotation:/home/azzubair/Desktop/DataMicron/RND/Banking-Form-Segmentation/jpg_forms/resized_images/resized_image_8.xml\n",
      "Image:/home/azzubair/Desktop/DataMicron/RND/Banking-Form-Segmentation/jpg_forms/resized_images/resized_image_8.jpg -> Annotation:/home/azzubair/Desktop/DataMicron/RND/Banking-Form-Segmentation/jpg_forms/resized_images/resized_image_8.xml\n",
      "Image:/home/azzubair/Desktop/DataMicron/RND/Banking-Form-Segmentation/jpg_forms/resized_images/resized_image_9.jpg -> Annotation:/home/azzubair/Desktop/DataMicron/RND/Banking-Form-Segmentation/jpg_forms/resized_images/resized_image_9.xml\n",
      "Image:/home/azzubair/Desktop/DataMicron/RND/Banking-Form-Segmentation/jpg_forms/resized_images/resized_image_9.jpg -> Annotation:/home/azzubair/Desktop/DataMicron/RND/Banking-Form-Segmentation/jpg_forms/resized_images/resized_image_9.xml\n",
      "Image:/home/azzubair/Desktop/DataMicron/RND/Banking-Form-Segmentation/jpg_forms/resized_images/resized_image_10.jpg -> Annotation:/home/azzubair/Desktop/DataMicron/RND/Banking-Form-Segmentation/jpg_forms/resized_images/resized_image_10.xml\n",
      "Image:/home/azzubair/Desktop/DataMicron/RND/Banking-Form-Segmentation/jpg_forms/resized_images/resized_image_10.jpg -> Annotation:/home/azzubair/Desktop/DataMicron/RND/Banking-Form-Segmentation/jpg_forms/resized_images/resized_image_10.xml\n",
      "Image:/home/azzubair/Desktop/DataMicron/RND/Banking-Form-Segmentation/jpg_forms/resized_images/resized_image_10.jpg -> Annotation:/home/azzubair/Desktop/DataMicron/RND/Banking-Form-Segmentation/jpg_forms/resized_images/resized_image_10.xml\n",
      "Image:/home/azzubair/Desktop/DataMicron/RND/Banking-Form-Segmentation/jpg_forms/resized_images/resized_image_11.jpg -> Annotation:/home/azzubair/Desktop/DataMicron/RND/Banking-Form-Segmentation/jpg_forms/resized_images/resized_image_11.xml\n",
      "Image:/home/azzubair/Desktop/DataMicron/RND/Banking-Form-Segmentation/jpg_forms/resized_images/resized_image_11.jpg -> Annotation:/home/azzubair/Desktop/DataMicron/RND/Banking-Form-Segmentation/jpg_forms/resized_images/resized_image_11.xml\n",
      "Image:/home/azzubair/Desktop/DataMicron/RND/Banking-Form-Segmentation/jpg_forms/resized_images/resized_image_13.jpg -> Annotation:/home/azzubair/Desktop/DataMicron/RND/Banking-Form-Segmentation/jpg_forms/resized_images/resized_image_13.xml\n",
      "Image:/home/azzubair/Desktop/DataMicron/RND/Banking-Form-Segmentation/jpg_forms/resized_images/resized_image_13.jpg -> Annotation:/home/azzubair/Desktop/DataMicron/RND/Banking-Form-Segmentation/jpg_forms/resized_images/resized_image_13.xml\n",
      "Cancel creation.\n",
      "Image:/home/azzubair/Desktop/DataMicron/RND/Banking-Form-Segmentation/jpg_forms/resized_images/resized_image_14.jpg -> Annotation:/home/azzubair/Desktop/DataMicron/RND/Banking-Form-Segmentation/jpg_forms/resized_images/resized_image_14.xml\n",
      "Image:/home/azzubair/Desktop/DataMicron/RND/Banking-Form-Segmentation/jpg_forms/resized_images/resized_image_15.jpg -> Annotation:/home/azzubair/Desktop/DataMicron/RND/Banking-Form-Segmentation/jpg_forms/resized_images/resized_image_15.xml\n",
      "Image:/home/azzubair/Desktop/DataMicron/RND/Banking-Form-Segmentation/jpg_forms/resized_images/resized_image_15.jpg -> Annotation:/home/azzubair/Desktop/DataMicron/RND/Banking-Form-Segmentation/jpg_forms/resized_images/resized_image_15.xml\n",
      "Image:/home/azzubair/Desktop/DataMicron/RND/Banking-Form-Segmentation/jpg_forms/resized_images/resized_image_18.jpg -> Annotation:/home/azzubair/Desktop/DataMicron/RND/Banking-Form-Segmentation/jpg_forms/resized_images/resized_image_18.xml\n",
      "Image:/home/azzubair/Desktop/DataMicron/RND/Banking-Form-Segmentation/jpg_forms/resized_images/resized_image_18.jpg -> Annotation:/home/azzubair/Desktop/DataMicron/RND/Banking-Form-Segmentation/jpg_forms/resized_images/resized_image_18.xml\n",
      "Image:/home/azzubair/Desktop/DataMicron/RND/Banking-Form-Segmentation/jpg_forms/resized_images/resized_image_18.jpg -> Annotation:/home/azzubair/Desktop/DataMicron/RND/Banking-Form-Segmentation/jpg_forms/resized_images/resized_image_18.xml\n",
      "Image:/home/azzubair/Desktop/DataMicron/RND/Banking-Form-Segmentation/jpg_forms/resized_images/resized_image_21.jpg -> Annotation:/home/azzubair/Desktop/DataMicron/RND/Banking-Form-Segmentation/jpg_forms/resized_images/resized_image_21.xml\n",
      "Image:/home/azzubair/Desktop/DataMicron/RND/Banking-Form-Segmentation/jpg_forms/resized_images/resized_image_21.jpg -> Annotation:/home/azzubair/Desktop/DataMicron/RND/Banking-Form-Segmentation/jpg_forms/resized_images/resized_image_21.xml\n",
      "Cancel creation.\n",
      "Image:/home/azzubair/Desktop/DataMicron/RND/Banking-Form-Segmentation/jpg_forms/resized_images/resized_image_25.jpg -> Annotation:/home/azzubair/Desktop/DataMicron/RND/Banking-Form-Segmentation/jpg_forms/resized_images/resized_image_25.xml\n",
      "Image:/home/azzubair/Desktop/DataMicron/RND/Banking-Form-Segmentation/jpg_forms/resized_images/resized_image_25.jpg -> Annotation:/home/azzubair/Desktop/DataMicron/RND/Banking-Form-Segmentation/jpg_forms/resized_images/resized_image_25.xml\n",
      "Image:/home/azzubair/Desktop/DataMicron/RND/Banking-Form-Segmentation/jpg_forms/resized_images/resized_image_27.jpg -> Annotation:/home/azzubair/Desktop/DataMicron/RND/Banking-Form-Segmentation/jpg_forms/resized_images/resized_image_27.xml\n",
      "Image:/home/azzubair/Desktop/DataMicron/RND/Banking-Form-Segmentation/jpg_forms/resized_images/resized_image_27.jpg -> Annotation:/home/azzubair/Desktop/DataMicron/RND/Banking-Form-Segmentation/jpg_forms/resized_images/resized_image_27.xml\n",
      "Image:/home/azzubair/Desktop/DataMicron/RND/Banking-Form-Segmentation/jpg_forms/resized_images/resized_image_29.jpg -> Annotation:/home/azzubair/Desktop/DataMicron/RND/Banking-Form-Segmentation/jpg_forms/resized_images/resized_image_29.xml\n",
      "Image:/home/azzubair/Desktop/DataMicron/RND/Banking-Form-Segmentation/jpg_forms/resized_images/resized_image_29.jpg -> Annotation:/home/azzubair/Desktop/DataMicron/RND/Banking-Form-Segmentation/jpg_forms/resized_images/resized_image_29.xml\n",
      "Image:/home/azzubair/Desktop/DataMicron/RND/Banking-Form-Segmentation/jpg_forms/resized_images/resized_image_30.jpg -> Annotation:/home/azzubair/Desktop/DataMicron/RND/Banking-Form-Segmentation/jpg_forms/resized_images/resized_image_30.xml\n",
      "Image:/home/azzubair/Desktop/DataMicron/RND/Banking-Form-Segmentation/jpg_forms/resized_images/resized_image_30.jpg -> Annotation:/home/azzubair/Desktop/DataMicron/RND/Banking-Form-Segmentation/jpg_forms/resized_images/resized_image_30.xml\n",
      "Image:/home/azzubair/Desktop/DataMicron/RND/Banking-Form-Segmentation/jpg_forms/resized_images/resized_image_31.jpg -> Annotation:/home/azzubair/Desktop/DataMicron/RND/Banking-Form-Segmentation/jpg_forms/resized_images/resized_image_31.xml\n",
      "Image:/home/azzubair/Desktop/DataMicron/RND/Banking-Form-Segmentation/jpg_forms/resized_images/resized_image_31.jpg -> Annotation:/home/azzubair/Desktop/DataMicron/RND/Banking-Form-Segmentation/jpg_forms/resized_images/resized_image_31.xml\n",
      "Image:/home/azzubair/Desktop/DataMicron/RND/Banking-Form-Segmentation/jpg_forms/resized_images/resized_image_32.jpg -> Annotation:/home/azzubair/Desktop/DataMicron/RND/Banking-Form-Segmentation/jpg_forms/resized_images/resized_image_32.xml\n",
      "Image:/home/azzubair/Desktop/DataMicron/RND/Banking-Form-Segmentation/jpg_forms/resized_images/resized_image_32.jpg -> Annotation:/home/azzubair/Desktop/DataMicron/RND/Banking-Form-Segmentation/jpg_forms/resized_images/resized_image_32.xml\n",
      "Image:/home/azzubair/Desktop/DataMicron/RND/Banking-Form-Segmentation/jpg_forms/resized_images/resized_image_33.jpg -> Annotation:/home/azzubair/Desktop/DataMicron/RND/Banking-Form-Segmentation/jpg_forms/resized_images/resized_image_33.xml\n",
      "Image:/home/azzubair/Desktop/DataMicron/RND/Banking-Form-Segmentation/jpg_forms/resized_images/resized_image_33.jpg -> Annotation:/home/azzubair/Desktop/DataMicron/RND/Banking-Form-Segmentation/jpg_forms/resized_images/resized_image_33.xml\n",
      "Image:/home/azzubair/Desktop/DataMicron/RND/Banking-Form-Segmentation/jpg_forms/resized_images/resized_image_35.jpg -> Annotation:/home/azzubair/Desktop/DataMicron/RND/Banking-Form-Segmentation/jpg_forms/resized_images/resized_image_35.xml\n",
      "Image:/home/azzubair/Desktop/DataMicron/RND/Banking-Form-Segmentation/jpg_forms/resized_images/resized_image_35.jpg -> Annotation:/home/azzubair/Desktop/DataMicron/RND/Banking-Form-Segmentation/jpg_forms/resized_images/resized_image_35.xml\n"
     ]
    }
   ],
   "source": [
    "!python3 ../labelImg/labelImg.py"
   ]
  },
  {
   "cell_type": "markdown",
   "metadata": {},
   "source": [
    "# 4) Convert XML to CSV files"
   ]
  },
  {
   "cell_type": "code",
   "execution_count": 23,
   "metadata": {},
   "outputs": [
    {
     "data": {
      "text/html": [
       "<div>\n",
       "<style scoped>\n",
       "    .dataframe tbody tr th:only-of-type {\n",
       "        vertical-align: middle;\n",
       "    }\n",
       "\n",
       "    .dataframe tbody tr th {\n",
       "        vertical-align: top;\n",
       "    }\n",
       "\n",
       "    .dataframe thead th {\n",
       "        text-align: right;\n",
       "    }\n",
       "</style>\n",
       "<table border=\"1\" class=\"dataframe\">\n",
       "  <thead>\n",
       "    <tr style=\"text-align: right;\">\n",
       "      <th></th>\n",
       "      <th>filename</th>\n",
       "      <th>width</th>\n",
       "      <th>height</th>\n",
       "      <th>class</th>\n",
       "      <th>xmin</th>\n",
       "      <th>ymin</th>\n",
       "      <th>xmax</th>\n",
       "      <th>ymax</th>\n",
       "    </tr>\n",
       "  </thead>\n",
       "  <tbody>\n",
       "    <tr>\n",
       "      <th>0</th>\n",
       "      <td>resized_image_15.jpg</td>\n",
       "      <td>430</td>\n",
       "      <td>600</td>\n",
       "      <td>Name</td>\n",
       "      <td>26</td>\n",
       "      <td>226</td>\n",
       "      <td>416</td>\n",
       "      <td>241</td>\n",
       "    </tr>\n",
       "    <tr>\n",
       "      <th>1</th>\n",
       "      <td>resized_image_15.jpg</td>\n",
       "      <td>430</td>\n",
       "      <td>600</td>\n",
       "      <td>Email</td>\n",
       "      <td>26</td>\n",
       "      <td>262</td>\n",
       "      <td>216</td>\n",
       "      <td>282</td>\n",
       "    </tr>\n",
       "    <tr>\n",
       "      <th>2</th>\n",
       "      <td>resized_image_15.jpg</td>\n",
       "      <td>430</td>\n",
       "      <td>600</td>\n",
       "      <td>Type_of_Form</td>\n",
       "      <td>26</td>\n",
       "      <td>168</td>\n",
       "      <td>201</td>\n",
       "      <td>177</td>\n",
       "    </tr>\n",
       "    <tr>\n",
       "      <th>3</th>\n",
       "      <td>resized_image_2.jpg</td>\n",
       "      <td>430</td>\n",
       "      <td>600</td>\n",
       "      <td>Logo</td>\n",
       "      <td>345</td>\n",
       "      <td>20</td>\n",
       "      <td>410</td>\n",
       "      <td>40</td>\n",
       "    </tr>\n",
       "    <tr>\n",
       "      <th>4</th>\n",
       "      <td>resized_image_2.jpg</td>\n",
       "      <td>430</td>\n",
       "      <td>600</td>\n",
       "      <td>Logo</td>\n",
       "      <td>14</td>\n",
       "      <td>563</td>\n",
       "      <td>89</td>\n",
       "      <td>585</td>\n",
       "    </tr>\n",
       "    <tr>\n",
       "      <th>...</th>\n",
       "      <td>...</td>\n",
       "      <td>...</td>\n",
       "      <td>...</td>\n",
       "      <td>...</td>\n",
       "      <td>...</td>\n",
       "      <td>...</td>\n",
       "      <td>...</td>\n",
       "      <td>...</td>\n",
       "    </tr>\n",
       "    <tr>\n",
       "      <th>83</th>\n",
       "      <td>resized_image_31.jpg</td>\n",
       "      <td>430</td>\n",
       "      <td>600</td>\n",
       "      <td>Logo</td>\n",
       "      <td>19</td>\n",
       "      <td>18</td>\n",
       "      <td>137</td>\n",
       "      <td>46</td>\n",
       "    </tr>\n",
       "    <tr>\n",
       "      <th>84</th>\n",
       "      <td>resized_image_31.jpg</td>\n",
       "      <td>430</td>\n",
       "      <td>600</td>\n",
       "      <td>Type_of_Form</td>\n",
       "      <td>19</td>\n",
       "      <td>58</td>\n",
       "      <td>278</td>\n",
       "      <td>93</td>\n",
       "    </tr>\n",
       "    <tr>\n",
       "      <th>85</th>\n",
       "      <td>resized_image_31.jpg</td>\n",
       "      <td>430</td>\n",
       "      <td>600</td>\n",
       "      <td>Name</td>\n",
       "      <td>20</td>\n",
       "      <td>122</td>\n",
       "      <td>267</td>\n",
       "      <td>140</td>\n",
       "    </tr>\n",
       "    <tr>\n",
       "      <th>86</th>\n",
       "      <td>resized_image_31.jpg</td>\n",
       "      <td>430</td>\n",
       "      <td>600</td>\n",
       "      <td>IC</td>\n",
       "      <td>272</td>\n",
       "      <td>122</td>\n",
       "      <td>413</td>\n",
       "      <td>140</td>\n",
       "    </tr>\n",
       "    <tr>\n",
       "      <th>87</th>\n",
       "      <td>resized_image_29.jpg</td>\n",
       "      <td>430</td>\n",
       "      <td>600</td>\n",
       "      <td>Logo</td>\n",
       "      <td>23</td>\n",
       "      <td>39</td>\n",
       "      <td>82</td>\n",
       "      <td>63</td>\n",
       "    </tr>\n",
       "  </tbody>\n",
       "</table>\n",
       "<p>88 rows × 8 columns</p>\n",
       "</div>"
      ],
      "text/plain": [
       "                filename  width  height         class  xmin  ymin  xmax  ymax\n",
       "0   resized_image_15.jpg    430     600          Name    26   226   416   241\n",
       "1   resized_image_15.jpg    430     600         Email    26   262   216   282\n",
       "2   resized_image_15.jpg    430     600  Type_of_Form    26   168   201   177\n",
       "3    resized_image_2.jpg    430     600          Logo   345    20   410    40\n",
       "4    resized_image_2.jpg    430     600          Logo    14   563    89   585\n",
       "..                   ...    ...     ...           ...   ...   ...   ...   ...\n",
       "83  resized_image_31.jpg    430     600          Logo    19    18   137    46\n",
       "84  resized_image_31.jpg    430     600  Type_of_Form    19    58   278    93\n",
       "85  resized_image_31.jpg    430     600          Name    20   122   267   140\n",
       "86  resized_image_31.jpg    430     600            IC   272   122   413   140\n",
       "87  resized_image_29.jpg    430     600          Logo    23    39    82    63\n",
       "\n",
       "[88 rows x 8 columns]"
      ]
     },
     "execution_count": 23,
     "metadata": {},
     "output_type": "execute_result"
    }
   ],
   "source": [
    "import os\n",
    "import glob\n",
    "import pandas as pd\n",
    "import xml.etree.ElementTree as ET\n",
    "\n",
    "\n",
    "def xml_to_csv(input_path, output_path):\n",
    "    xml_list = []\n",
    "    for xml_file in glob.glob(input_path + '/*.xml'):\n",
    "        tree = ET.parse(xml_file)\n",
    "        root = tree.getroot()\n",
    "        for member in root.findall('object'):\n",
    "            value = (root.find('filename').text,\n",
    "                     int(root.find('size')[0].text),\n",
    "                     int(root.find('size')[1].text),\n",
    "                     member[0].text,\n",
    "                     int(member[4][0].text),\n",
    "                     int(member[4][1].text),\n",
    "                     int(member[4][2].text),\n",
    "                     int(member[4][3].text)\n",
    "                     )\n",
    "            xml_list.append(value)\n",
    "    column_name = ['filename', 'width', 'height', 'class', 'xmin', 'ymin', 'xmax', 'ymax']\n",
    "    xml_df = pd.DataFrame(xml_list, columns=column_name)\n",
    "    xml_df.to_csv(output_path + 'labels.csv', index=None)\n",
    "    return xml_df\n",
    "\n",
    "xml_to_csv(output_path2 , 'jpg_forms/selected_images/')"
   ]
  },
  {
   "cell_type": "code",
   "execution_count": null,
   "metadata": {},
   "outputs": [],
   "source": []
  }
 ],
 "metadata": {
  "kernelspec": {
   "display_name": "Python 3",
   "language": "python",
   "name": "python3"
  },
  "language_info": {
   "codemirror_mode": {
    "name": "ipython",
    "version": 3
   },
   "file_extension": ".py",
   "mimetype": "text/x-python",
   "name": "python",
   "nbconvert_exporter": "python",
   "pygments_lexer": "ipython3",
   "version": "3.8.5"
  }
 },
 "nbformat": 4,
 "nbformat_minor": 4
}
